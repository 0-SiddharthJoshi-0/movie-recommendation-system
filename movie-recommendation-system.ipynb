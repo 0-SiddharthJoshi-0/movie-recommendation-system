{
 "cells": [
  {
   "cell_type": "code",
   "execution_count": 1,
   "id": "7177ce4e-164f-4962-8d52-53477c3edbab",
   "metadata": {},
   "outputs": [],
   "source": [
    "import pandas as pd\n",
    "from sklearn.feature_extraction.text import TfidfVectorizer\n",
    "from sklearn.metrics.pairwise import cosine_similarity\n",
    "import numpy as np\n",
    "\n",
    "\n",
    "movies = pd.read_csv(\"imdb_movies.csv\")\n"
   ]
  },
  {
   "cell_type": "code",
   "execution_count": 2,
   "id": "ee6dca17-fca4-4e81-b49f-a9a60192b6e9",
   "metadata": {},
   "outputs": [
    {
     "data": {
      "text/html": [
       "<div>\n",
       "<style scoped>\n",
       "    .dataframe tbody tr th:only-of-type {\n",
       "        vertical-align: middle;\n",
       "    }\n",
       "\n",
       "    .dataframe tbody tr th {\n",
       "        vertical-align: top;\n",
       "    }\n",
       "\n",
       "    .dataframe thead th {\n",
       "        text-align: right;\n",
       "    }\n",
       "</style>\n",
       "<table border=\"1\" class=\"dataframe\">\n",
       "  <thead>\n",
       "    <tr style=\"text-align: right;\">\n",
       "      <th></th>\n",
       "      <th>names</th>\n",
       "      <th>date_x</th>\n",
       "      <th>score</th>\n",
       "      <th>genre</th>\n",
       "      <th>overview</th>\n",
       "      <th>crew</th>\n",
       "      <th>orig_title</th>\n",
       "      <th>status</th>\n",
       "      <th>orig_lang</th>\n",
       "      <th>budget_x</th>\n",
       "      <th>revenue</th>\n",
       "      <th>country</th>\n",
       "    </tr>\n",
       "  </thead>\n",
       "  <tbody>\n",
       "    <tr>\n",
       "      <th>0</th>\n",
       "      <td>Creed III</td>\n",
       "      <td>03/02/2023</td>\n",
       "      <td>73.0</td>\n",
       "      <td>Drama, Action</td>\n",
       "      <td>After dominating the boxing world, Adonis Cree...</td>\n",
       "      <td>Michael B. Jordan, Adonis Creed, Tessa Thompso...</td>\n",
       "      <td>Creed III</td>\n",
       "      <td>Released</td>\n",
       "      <td>English</td>\n",
       "      <td>75000000.0</td>\n",
       "      <td>271616668.0</td>\n",
       "      <td>AU</td>\n",
       "    </tr>\n",
       "  </tbody>\n",
       "</table>\n",
       "</div>"
      ],
      "text/plain": [
       "       names       date_x  score          genre  \\\n",
       "0  Creed III  03/02/2023    73.0  Drama, Action   \n",
       "\n",
       "                                            overview  \\\n",
       "0  After dominating the boxing world, Adonis Cree...   \n",
       "\n",
       "                                                crew orig_title     status  \\\n",
       "0  Michael B. Jordan, Adonis Creed, Tessa Thompso...  Creed III   Released   \n",
       "\n",
       "  orig_lang    budget_x      revenue country  \n",
       "0   English  75000000.0  271616668.0      AU  "
      ]
     },
     "execution_count": 2,
     "metadata": {},
     "output_type": "execute_result"
    }
   ],
   "source": [
    "movies.head(1)\n"
   ]
  },
  {
   "cell_type": "code",
   "execution_count": 3,
   "id": "1bedaac6-dc94-4f90-bc60-48198d1fa211",
   "metadata": {},
   "outputs": [
    {
     "data": {
      "text/plain": [
       "orig_lang\n",
       " English                                7417\n",
       " Japanese                                714\n",
       " Spanish, Castilian                      397\n",
       " Korean                                  388\n",
       " French                                  285\n",
       " Chinese                                 153\n",
       " Cantonese                               145\n",
       " Italian                                 142\n",
       " German                                   93\n",
       " Russian                                  66\n",
       " Tagalog                                  43\n",
       " Portuguese                               35\n",
       " Thai                                     34\n",
       " Norwegian                                29\n",
       " Hindi                                    26\n",
       " Polish                                   26\n",
       " Danish                                   23\n",
       " Dutch, Flemish                           22\n",
       " Swedish                                  22\n",
       " Turkish                                  22\n",
       " Indonesian                               11\n",
       " Malayalam                                 7\n",
       " Greek                                     6\n",
       " Tamil                                     6\n",
       " Telugu                                    6\n",
       " Finnish                                   6\n",
       " Persian                                   5\n",
       " Vietnamese                                4\n",
       " Arabic                                    4\n",
       " Ukrainian                                 4\n",
       " Icelandic                                 3\n",
       " No Language                               3\n",
       " Romanian                                  2\n",
       " Kannada                                   2\n",
       " Czech                                     2\n",
       " Central Khmer                             2\n",
       " Malay                                     2\n",
       " Latvian                                   2\n",
       " Bengali                                   2\n",
       " Hungarian                                 2\n",
       " Catalan, Valencian                        2\n",
       " Macedonian                                1\n",
       " Oriya                                     1\n",
       " Bokmål, Norwegian, Norwegian Bokmål       1\n",
       " Marathi                                   1\n",
       " Basque                                    1\n",
       " Galician                                  1\n",
       " Irish                                     1\n",
       " Serbian                                   1\n",
       " Gujarati                                  1\n",
       " Serbo-Croatian                            1\n",
       " Latin                                     1\n",
       " Dzongkha                                  1\n",
       " Slovak                                    1\n",
       "Name: count, dtype: int64"
      ]
     },
     "execution_count": 3,
     "metadata": {},
     "output_type": "execute_result"
    }
   ],
   "source": [
    "movies['orig_lang'].value_counts()"
   ]
  },
  {
   "cell_type": "code",
   "execution_count": 4,
   "id": "411f02ba-070b-4268-9e84-dfc9f9658d78",
   "metadata": {},
   "outputs": [
    {
     "data": {
      "text/plain": [
       "orig_title\n",
       "Pinocchio    11\n",
       "Halloween     8\n",
       "King Kong     8\n",
       "Scream        5\n",
       "After         5\n",
       "             ..\n",
       " Hayat        1\n",
       "Revenge       1\n",
       "Cars          1\n",
       "Cashback      1\n",
       "Payback       1\n",
       "Name: count, Length: 268, dtype: int64"
      ]
     },
     "execution_count": 4,
     "metadata": {},
     "output_type": "execute_result"
    }
   ],
   "source": [
    "\n",
    "duplicate=movies[movies.duplicated(\"orig_title\")]\n",
    "duplicate[\"orig_title\"].value_counts()"
   ]
  },
  {
   "cell_type": "code",
   "execution_count": 5,
   "id": "12a65ee4-0e6d-4748-a2c7-6cfc3cd34a1b",
   "metadata": {},
   "outputs": [],
   "source": [
    "# drop that duplicate values row\n",
    "movies.drop_duplicates(subset=\"orig_title\",inplace=True)\n"
   ]
  },
  {
   "cell_type": "code",
   "execution_count": 6,
   "id": "1391cbcf-d570-447e-9ac5-b4cb2951e35b",
   "metadata": {},
   "outputs": [
    {
     "data": {
      "text/plain": [
       "names          0\n",
       "date_x         0\n",
       "score          0\n",
       "genre         81\n",
       "overview       0\n",
       "crew          53\n",
       "orig_title     0\n",
       "status         0\n",
       "orig_lang      0\n",
       "budget_x       0\n",
       "revenue        0\n",
       "country        0\n",
       "dtype: int64"
      ]
     },
     "execution_count": 6,
     "metadata": {},
     "output_type": "execute_result"
    }
   ],
   "source": [
    "movies.isnull().sum()"
   ]
  },
  {
   "cell_type": "code",
   "execution_count": 7,
   "id": "c340e154-b91c-4cbb-9f33-573475a78566",
   "metadata": {},
   "outputs": [],
   "source": [
    "movies.dropna(inplace=True)"
   ]
  },
  {
   "cell_type": "code",
   "execution_count": 8,
   "id": "04454201-f672-4bfe-acd4-25d3c5a4b424",
   "metadata": {},
   "outputs": [
    {
     "data": {
      "text/plain": [
       "'Inspired by a true story, an oddball group of cops, criminals, tourists and teens converge in a Georgia forest where a 500-pound black bear goes on a murderous rampage after unintentionally ingesting cocaine.'"
      ]
     },
     "execution_count": 8,
     "metadata": {},
     "output_type": "execute_result"
    }
   ],
   "source": [
    "movies.iloc[5].overview"
   ]
  },
  {
   "cell_type": "code",
   "execution_count": 9,
   "id": "35971315-89fc-4f47-92d4-5ee741479ba7",
   "metadata": {},
   "outputs": [
    {
     "data": {
      "text/html": [
       "<div>\n",
       "<style scoped>\n",
       "    .dataframe tbody tr th:only-of-type {\n",
       "        vertical-align: middle;\n",
       "    }\n",
       "\n",
       "    .dataframe tbody tr th {\n",
       "        vertical-align: top;\n",
       "    }\n",
       "\n",
       "    .dataframe thead th {\n",
       "        text-align: right;\n",
       "    }\n",
       "</style>\n",
       "<table border=\"1\" class=\"dataframe\">\n",
       "  <thead>\n",
       "    <tr style=\"text-align: right;\">\n",
       "      <th></th>\n",
       "      <th>tags</th>\n",
       "    </tr>\n",
       "  </thead>\n",
       "  <tbody>\n",
       "    <tr>\n",
       "      <th>0</th>\n",
       "      <td>After dominating the boxing world, Adonis Cree...</td>\n",
       "    </tr>\n",
       "    <tr>\n",
       "      <th>1</th>\n",
       "      <td>Set more than a decade after the events of the...</td>\n",
       "    </tr>\n",
       "    <tr>\n",
       "      <th>2</th>\n",
       "      <td>While working underground to fix a water main,...</td>\n",
       "    </tr>\n",
       "    <tr>\n",
       "      <th>3</th>\n",
       "      <td>Through a series of unfortunate events, three ...</td>\n",
       "    </tr>\n",
       "    <tr>\n",
       "      <th>4</th>\n",
       "      <td>Good-hearted teenager William always lived in ...</td>\n",
       "    </tr>\n",
       "  </tbody>\n",
       "</table>\n",
       "</div>"
      ],
      "text/plain": [
       "                                                tags\n",
       "0  After dominating the boxing world, Adonis Cree...\n",
       "1  Set more than a decade after the events of the...\n",
       "2  While working underground to fix a water main,...\n",
       "3  Through a series of unfortunate events, three ...\n",
       "4  Good-hearted teenager William always lived in ..."
      ]
     },
     "execution_count": 9,
     "metadata": {},
     "output_type": "execute_result"
    }
   ],
   "source": [
    "# Split the 'genre' column by commas if it's a string of genres\n",
    "movies['genre'] = movies['genre'].apply(lambda x: ', '.join(x.split(', ')) if pd.notnull(x) else '')\n",
    "\n",
    "# Combine 'overview' and 'genre' into a single 'combined_features' column\n",
    "movies['tags'] = movies['overview'] + ' ' + movies['genre'] + ' ' + movies['orig_title'] +' ' + movies['crew'] \n",
    "\n",
    "# Check the new column\n",
    "movies[['tags']].head()\n"
   ]
  },
  {
   "cell_type": "code",
   "execution_count": 10,
   "id": "f0f891e2-0ea5-4cad-ba9b-a25222584569",
   "metadata": {},
   "outputs": [
    {
     "data": {
      "text/plain": [
       "\"Set more than a decade after the events of the first film, learn the story of the Sully family (Jake, Neytiri, and their kids), the trouble that follows them, the lengths they go to keep each other safe, the battles they fight to stay alive, and the tragedies they endure. Science Fiction,\\xa0Adventure,\\xa0Action Avatar: The Way of Water Sam Worthington, Jake Sully, Zoe Saldaña, Neytiri, Sigourney Weaver, Kiri / Dr. Grace Augustine, Stephen Lang, Colonel Miles Quaritch, Kate Winslet, Ronal, Cliff Curtis, Tonowari, Joel David Moore, Norm Spellman, CCH Pounder, Mo'at, Edie Falco, General Frances Ardmore\""
      ]
     },
     "execution_count": 10,
     "metadata": {},
     "output_type": "execute_result"
    }
   ],
   "source": [
    "movies.iloc[1].tags"
   ]
  },
  {
   "cell_type": "code",
   "execution_count": 11,
   "id": "d547f09e-f82d-475d-84e4-f7e7ec06b848",
   "metadata": {},
   "outputs": [
    {
     "data": {
      "text/plain": [
       "(9614, 73192)"
      ]
     },
     "execution_count": 11,
     "metadata": {},
     "output_type": "execute_result"
    }
   ],
   "source": [
    "# Initialize the TfidfVectorizer\n",
    "tfidf = TfidfVectorizer(stop_words='english')\n",
    "\n",
    "# Fit and transform the data\n",
    "tfidf_matrix = tfidf.fit_transform(movies['tags'])\n",
    "\n",
    "# Check the shape of the matrix (number of movies, number of features)\n",
    "tfidf_matrix.shape\n"
   ]
  },
  {
   "cell_type": "code",
   "execution_count": 12,
   "id": "99aa39f5-5499-46bd-88db-ee06e704af2d",
   "metadata": {},
   "outputs": [
    {
     "data": {
      "text/plain": [
       "(9614, 9614)"
      ]
     },
     "execution_count": 12,
     "metadata": {},
     "output_type": "execute_result"
    }
   ],
   "source": [
    "# Compute the cosine similarity matrix\n",
    "cosine_sim = cosine_similarity(tfidf_matrix, tfidf_matrix)\n",
    "\n",
    "# Display the similarity matrix\n",
    "cosine_sim.shape\n"
   ]
  },
  {
   "cell_type": "code",
   "execution_count": 13,
   "id": "ab7eeeac-a8f2-40f5-8740-2b5a53f270aa",
   "metadata": {},
   "outputs": [
    {
     "data": {
      "text/plain": [
       "array([0.00784648, 1.        , 0.01436091, ..., 0.01285654, 0.01895282,\n",
       "       0.00205972])"
      ]
     },
     "execution_count": 13,
     "metadata": {},
     "output_type": "execute_result"
    }
   ],
   "source": [
    "cosine_sim[1]"
   ]
  },
  {
   "cell_type": "code",
   "execution_count": 14,
   "id": "541c9b98-70c7-4886-98cc-39de32c07ebf",
   "metadata": {},
   "outputs": [],
   "source": [
    "movies['index'] = range(0, len(movies))     # creating new column \"index\" \n",
    "\n",
    "movies = movies.set_index('index').reset_index() # move the column to begining of the dataset"
   ]
  },
  {
   "cell_type": "code",
   "execution_count": 15,
   "id": "53720951-ff8f-429e-9e74-93b1afdf4f62",
   "metadata": {},
   "outputs": [],
   "source": [
    "def recommend(movie):\n",
    "    movie = movie.strip().lower()\n",
    "    movies['orig_title'] = movies['orig_title'].str.strip().str.lower()\n",
    "    \n",
    "    if movie not in movies['orig_title'].values:\n",
    "        print(f\"Movie '{movie}' not found in the DataFrame.\")\n",
    "        return\n",
    "\n",
    "    movie_idx = movies[movies['orig_title'] == movie].index[0]\n",
    "    \n",
    "    similarity_scores = list(enumerate(cosine_sim[movie_idx]))\n",
    "    sorted_scores = sorted(similarity_scores, reverse=True, key=lambda x: x[1])[1:11]\n",
    "    \n",
    "    print(f\"Recommendations for '{movie}':\")\n",
    "    for i in sorted_scores:\n",
    "        print(f\"{movies.iloc[i[0]].orig_title} (Similarity Score: {i[1]:.4f})\")"
   ]
  },
  {
   "cell_type": "code",
   "execution_count": 16,
   "id": "32ecb86c-a044-4a7d-8743-218601323b1a",
   "metadata": {},
   "outputs": [
    {
     "name": "stdout",
     "output_type": "stream",
     "text": [
      "Recommendations for 'harry potter: a history of magic':\n",
      "fantastic beasts: a natural history (Similarity Score: 0.1424)\n",
      "50 greatest harry potter moments (Similarity Score: 0.1307)\n",
      "harry potter and the chamber of secrets (Similarity Score: 0.1237)\n",
      "harry potter and the order of the phoenix (Similarity Score: 0.1151)\n",
      "harry potter and the deathly hallows: part 2 (Similarity Score: 0.1105)\n",
      "harry potter and the goblet of fire (Similarity Score: 0.1087)\n",
      "harry potter and the philosopher's stone (Similarity Score: 0.1025)\n",
      "harry potter and the prisoner of azkaban (Similarity Score: 0.0918)\n",
      "harry potter 20th anniversary: return to hogwarts (Similarity Score: 0.0841)\n",
      "harry potter and the deathly hallows: part 1 (Similarity Score: 0.0783)\n"
     ]
    }
   ],
   "source": [
    "recommend(\"Harry Potter: A History Of Magic\")"
   ]
  },
  {
   "cell_type": "code",
   "execution_count": 17,
   "id": "155e62f5-9101-4a42-8a9d-4f20947d306a",
   "metadata": {},
   "outputs": [],
   "source": [
    "import pickle\n"
   ]
  },
  {
   "cell_type": "code",
   "execution_count": 18,
   "id": "f61fd41b-45df-4baf-a188-106e9f202556",
   "metadata": {},
   "outputs": [],
   "source": [
    "pickle.dump(movies.to_dict(),open('movies.pkl','wb'))"
   ]
  },
  {
   "cell_type": "code",
   "execution_count": 19,
   "id": "270c5d15-7646-4127-aeb9-3b8262b3392b",
   "metadata": {},
   "outputs": [],
   "source": [
    "pickle.dump(cosine_sim,open('similarity.pkl','wb'))"
   ]
  },
  {
   "cell_type": "code",
   "execution_count": null,
   "id": "8de32cdd-840b-4039-a2f1-385a23941b47",
   "metadata": {},
   "outputs": [],
   "source": []
  }
 ],
 "metadata": {
  "kernelspec": {
   "display_name": "Python 3 (ipykernel)",
   "language": "python",
   "name": "python3"
  },
  "language_info": {
   "codemirror_mode": {
    "name": "ipython",
    "version": 3
   },
   "file_extension": ".py",
   "mimetype": "text/x-python",
   "name": "python",
   "nbconvert_exporter": "python",
   "pygments_lexer": "ipython3",
   "version": "3.11.7"
  }
 },
 "nbformat": 4,
 "nbformat_minor": 5
}
